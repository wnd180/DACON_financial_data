{
 "cells": [
  {
   "cell_type": "markdown",
   "source": [
    "## [태블로 완성본 전체보기 하이퍼링크](https://public.tableau.com/views/_16312600898600/-?:language=ko-KR&:display_count=n&:origin=viz_share_link)\r\n"
   ],
   "metadata": {}
  },
  {
   "cell_type": "markdown",
   "source": [
    "# 태블로 데이터 설명"
   ],
   "metadata": {}
  },
  {
   "cell_type": "markdown",
   "source": [
    "## 1. 서론\r\n",
    "\r\n",
    "저희는 열린재정에서 제공하는 예산 데이터를 여러 주제로 분석하고, 더불어 분석한 내용을 다양한 시각화 방법으로 나타내는 것을 목표로 하였습니다."
   ],
   "metadata": {}
  },
  {
   "cell_type": "markdown",
   "source": [
    "### 1. 배경"
   ],
   "metadata": {}
  },
  {
   "cell_type": "markdown",
   "source": [
    "- 예산이 여러 분야에 쓰인다는 것은 알고 있지만, 언제 어디에 어떻게 쓰이는지 정확한 사용처를 알기 어렵다는 점을 고려하여 **‘연도별 예산 평균 추이’** 부터 **‘세부사업별 정보’** 까지 상세히 기재된 **사업별 시계열 데이터**를 사용하여 분석하고자 하였습니다. "
   ],
   "metadata": {}
  },
  {
   "cell_type": "markdown",
   "source": [
    "### 2. 목적"
   ],
   "metadata": {}
  },
  {
   "cell_type": "markdown",
   "source": [
    "- 일반 사용자가 **여러 옵션**을 선택하여, 분석된 열린재정 예산 집행 내역을 자유자재로 둘러볼 수 있도록 하는 것을 목적으로 하였습니다.\r\n",
    "- **다양한 시각화** 방법을 사용하여 일반 엑셀이나 통계자료로는 이해하기 힘든 데이터들을 시각적으로 한눈에 파악할 수 있도록 하는 것을 목적으로 하였습니다.  \r\n",
    "\r\n"
   ],
   "metadata": {}
  },
  {
   "cell_type": "markdown",
   "source": [
    "----"
   ],
   "metadata": {}
  },
  {
   "cell_type": "markdown",
   "source": [
    "## 2. 본론"
   ],
   "metadata": {}
  },
  {
   "cell_type": "markdown",
   "source": [
    "### [1페이지]"
   ],
   "metadata": {}
  },
  {
   "cell_type": "markdown",
   "source": [
    "#### <center> 1. 버블 차트 & 연도별 총 예산 추이 & 연도 전체 예산 (소관별) <center>"
   ],
   "metadata": {}
  },
  {
   "cell_type": "markdown",
   "source": [
    "![1-2](https://cdn.discordapp.com/attachments/885790894190649374/885794427489112074/unknown.png)"
   ],
   "metadata": {}
  },
  {
   "cell_type": "markdown",
   "source": [
    "- **1-1. 버블차트**  \r\n",
    "전체 연도를 기준으로 총 예산 중 각 소관 예산이 차지하는 비율을 **버블차트**로 표현  \r\n",
    "시각적으로는 돼지저금통 속 동전으로 표현함"
   ],
   "metadata": {}
  },
  {
   "cell_type": "markdown",
   "source": [
    "- **1-2. 연도별 총 예산 추이(오른쪽 상단)**  \r\n",
    "GDP 대비 국가 채무를 계기판에 표시하여 시각적으로 재미있게 표현 "
   ],
   "metadata": {}
  },
  {
   "cell_type": "markdown",
   "source": [
    "- **1-3. 전체 연도 예산(오른쪽 하단)**  \r\n",
    "전체 연도를 기준으로 각 소관별 예산을 **하이라이트 테이블**로 표현 "
   ],
   "metadata": {}
  },
  {
   "cell_type": "markdown",
   "source": [
    "### [2페이지]"
   ],
   "metadata": {}
  },
  {
   "cell_type": "markdown",
   "source": [
    "#### <center> 2. Gauge 그래프 & 연도별 예산 순위 <center>"
   ],
   "metadata": {}
  },
  {
   "cell_type": "markdown",
   "source": [
    "![1](https://cdn.discordapp.com/attachments/885790894190649374/885795349690740736/unknown.png)"
   ],
   "metadata": {}
  },
  {
   "cell_type": "markdown",
   "source": [
    "- **2-1. 버블차트**  \r\n",
    "사용자가 선택한 연도에 대해, 총 예산에서 각 소관 예산이 차지하는 비율을 버블차트로 표현"
   ],
   "metadata": {}
  },
  {
   "cell_type": "markdown",
   "source": [
    "- **2-2. Gauge 그래프(계기판 차트)(국가 채무 GDP 대비%)**  \r\n",
    "GDP 대비 국가 채무를 계기판에 표시하여 시각적으로 재미있게 표현 "
   ],
   "metadata": {}
  },
  {
   "cell_type": "markdown",
   "source": [
    "- **2-3. 연도별 예산 순위(소관별)**  \r\n",
    "각 소관별로 연도별 예산이 가장 많은 순으로 정렬하여 순위를 나타냄"
   ],
   "metadata": {}
  },
  {
   "cell_type": "markdown",
   "source": [
    "---"
   ],
   "metadata": {}
  },
  {
   "cell_type": "markdown",
   "source": [
    "### [3페이지]"
   ],
   "metadata": {}
  },
  {
   "cell_type": "markdown",
   "source": [
    "#### <center> 3-1. 연도별 예산 추이(연도별 총합) <center>\r\n"
   ],
   "metadata": {}
  },
  {
   "cell_type": "markdown",
   "source": [
    "![1](https://cdn.discordapp.com/attachments/885790894190649374/885796326741266483/unknown.png)"
   ],
   "metadata": {}
  },
  {
   "cell_type": "markdown",
   "source": [
    "- 각 소관의 예산 평균이 연도별로 어떻게 변화하는지 추이를 볼 수 있도록 **막대그래프**로 표현\r\n",
    "- 아래는 연도별로 세부사업에 대한 예산의 분포를  막대선 상에 표현한 것"
   ],
   "metadata": {}
  },
  {
   "cell_type": "markdown",
   "source": [
    "---"
   ],
   "metadata": {}
  },
  {
   "cell_type": "markdown",
   "source": [
    "#### <center> 3-2. 분야별 예산 순위 <center>"
   ],
   "metadata": {}
  },
  {
   "cell_type": "markdown",
   "source": [
    "![2](https://cdn.discordapp.com/attachments/885790894190649374/885796522510401586/unknown.png)"
   ],
   "metadata": {}
  },
  {
   "cell_type": "markdown",
   "source": [
    "- 각 소관의 전체 예산 중 각 분야의 예산이 차지하는 비율을 한눈에 파악 가능한 **파이차트**로 표현함\r\n",
    "- 연도별로 선택 가능"
   ],
   "metadata": {}
  },
  {
   "cell_type": "markdown",
   "source": [
    "---"
   ],
   "metadata": {}
  },
  {
   "cell_type": "markdown",
   "source": [
    "#### <center> 3-3. 회계별 예산 순위 <center>"
   ],
   "metadata": {}
  },
  {
   "cell_type": "markdown",
   "source": [
    "![3](https://cdn.discordapp.com/attachments/885790894190649374/885795833780506674/unknown.png)\r\n"
   ],
   "metadata": {}
  },
  {
   "cell_type": "markdown",
   "source": [
    "- 각 소관에서 사용한 회계별 예산 순위를 **하이라이트 테이블**로 나타냄\r\n",
    "- 예산 크기에 따라 채도를 다르게 표현하여 사용자로 하여금 보다 직관적인 통계 파악이 가능하도록 함"
   ],
   "metadata": {}
  },
  {
   "cell_type": "markdown",
   "source": [
    "---"
   ],
   "metadata": {}
  },
  {
   "cell_type": "markdown",
   "source": [
    "#### <center> 3-4. 부문별 예산 순위 <center>"
   ],
   "metadata": {}
  },
  {
   "cell_type": "markdown",
   "source": [
    "![4](https://cdn.discordapp.com/attachments/885790894190649374/885796522510401586/unknown.png)"
   ],
   "metadata": {}
  },
  {
   "cell_type": "markdown",
   "source": [
    "- 각 소관의 부문별 예산 순위를 **가로 막대그래프**로 나타냄\r\n",
    "- 연도별로 선택 가능"
   ],
   "metadata": {}
  },
  {
   "cell_type": "markdown",
   "source": [
    "---"
   ],
   "metadata": {}
  },
  {
   "cell_type": "markdown",
   "source": [
    "#### <center> 3-5. 세부 사업별 <center>"
   ],
   "metadata": {}
  },
  {
   "cell_type": "markdown",
   "source": [
    "![5](https://cdn.discordapp.com/attachments/885790894190649374/885796964762021908/unknown.png)\r\n"
   ],
   "metadata": {}
  },
  {
   "cell_type": "markdown",
   "source": [
    "- 각 소관에서 진행하는 세부 사업에 대한 예산 통계를 **하이라이트 테이블**로 표현\r\n",
    "- 필터를 통해 다른 소관을 선택하여 여러 소관의 세부사업별 예산 비교 가능\r\n",
    "- 세부사업의 종류가 매우 많고, 세부사업에 대한 용어를 사용자가 이해하기에 어렵다고 판단하여 각 세부사업 이름 클릭 시, 세부사업에 대한 설명 및 정보에 관한 링크로 연결되도록 설정"
   ],
   "metadata": {}
  },
  {
   "cell_type": "markdown",
   "source": [
    "----"
   ],
   "metadata": {}
  },
  {
   "cell_type": "markdown",
   "source": [
    "# 데이터 전처리 과정\r\n",
    "\r\n",
    "* 본 ipynb 파일은 python 3.9.6 64bit 환경에서 실행되었습니다"
   ],
   "metadata": {}
  },
  {
   "cell_type": "markdown",
   "source": [
    "# 필요한 패키지 import"
   ],
   "metadata": {}
  },
  {
   "cell_type": "code",
   "execution_count": 13,
   "source": [
    "import os\r\n",
    "import re\r\n",
    "\r\n",
    "import pandas as pd\r\n",
    "\r\n",
    "import matplotlib.pyplot as plt\r\n",
    "from IPython.display import set_matplotlib_formats\r\n",
    "\r\n",
    "plt.rc('font',family='Malgun Gothic')\r\n",
    "plt.rc('axes', unicode_minus=False)\r\n",
    "set_matplotlib_formats('retina')\r\n",
    "%matplotlib inline\r\n",
    "\r\n",
    "pd.set_option('float_format', '{:.0f}'.format)"
   ],
   "outputs": [
    {
     "output_type": "stream",
     "name": "stderr",
     "text": [
      "C:\\Users\\user\\AppData\\Local\\Temp/ipykernel_91176/3860980590.py:11: DeprecationWarning: `set_matplotlib_formats` is deprecated since IPython 7.23, directly use `matplotlib_inline.backend_inline.set_matplotlib_formats()`\n",
      "  set_matplotlib_formats('retina')\n"
     ]
    }
   ],
   "metadata": {}
  },
  {
   "cell_type": "code",
   "execution_count": 4,
   "source": [
    "L = os.listdir(r\"D:\\재정데이터 시각화 경진대회\\추가 조사한 데이터\\사업별 예산 시계열\")\r\n",
    "for i in L:\r\n",
    "    if not i.endswith(\".xls\"):\r\n",
    "        L.remove(i)\r\n",
    "L"
   ],
   "outputs": [
    {
     "output_type": "execute_result",
     "data": {
      "text/plain": [
       "['감사원.xls',\n",
       " '개인정보보호위원회.xls',\n",
       " '경찰청 (2).xls',\n",
       " '고용노동부 (2).xls',\n",
       " '공정거래위원회 (2).xls',\n",
       " '과학기술정보통신부.xls',\n",
       " '관세청.xls',\n",
       " '교육부.xls',\n",
       " '국가보훈처.xls',\n",
       " '국가인권위원회.xls',\n",
       " '국방부.xls',\n",
       " '국세청.xls',\n",
       " '국토교통부.xls',\n",
       " '국회.xls',\n",
       " '금융위원회.xls',\n",
       " '기상청.xls',\n",
       " '기획재정부.xls',\n",
       " '농림축산식품부.xls',\n",
       " '농촌진흥청.xls',\n",
       " '대법원.xls',\n",
       " '대통령경호처.xls',\n",
       " '대통령비서실 및 국가안보실.xls',\n",
       " '문화재청.xls',\n",
       " '문화체육관광부.xls',\n",
       " '민주평화통일자문회의.xls',\n",
       " '방송통신위원회.xls',\n",
       " '방위사업청.xls',\n",
       " '법무부.xls',\n",
       " '법제처.xls',\n",
       " '병무청.xls',\n",
       " '보건복지부.xls',\n",
       " '산림청.xls',\n",
       " '산업통상자원부.xls',\n",
       " '새만금개발청.xls',\n",
       " '소방청.xls',\n",
       " '식품의약품안전처.xls',\n",
       " '여성가족부.xls',\n",
       " '외교부.xls',\n",
       " '원자력안전위원회.xls',\n",
       " '인사혁신처.xls',\n",
       " '조달청.xls',\n",
       " '중소벤처기업부.xls',\n",
       " '중소벤처사업부.xls',\n",
       " '중앙선거관리위원회.xls',\n",
       " '질병관리청.xls',\n",
       " '통계청.xls',\n",
       " '통일부.xls',\n",
       " '특허청.xls',\n",
       " '해양경찰청.xls',\n",
       " '해양수산부.xls',\n",
       " '행정안전부.xls',\n",
       " '행정중심복합도시건설청.xls',\n",
       " '헌법재판소.xls',\n",
       " '환경부.xls']"
      ]
     },
     "metadata": {},
     "execution_count": 4
    }
   ],
   "metadata": {}
  },
  {
   "cell_type": "code",
   "execution_count": 5,
   "source": [
    "df_L = []\r\n",
    "for i in L:\r\n",
    "    df_L.append(pd.read_excel(r\"D:\\재정데이터 시각화 경진대회\\추가 조사한 데이터\\사업별 예산 시계열\"+f'\\\\{i}'))"
   ],
   "outputs": [],
   "metadata": {}
  },
  {
   "cell_type": "code",
   "execution_count": 6,
   "source": [
    "df_raw = pd.concat(df_L, axis=0).reset_index(drop=True)"
   ],
   "outputs": [],
   "metadata": {}
  },
  {
   "cell_type": "markdown",
   "source": [
    "# 연도 별 column과 예산으로 데이터 정제하기"
   ],
   "metadata": {}
  },
  {
   "cell_type": "code",
   "execution_count": 7,
   "source": [
    "col_years = [i for i in df_raw.columns if i.startswith(\"20\")]\r\n",
    "\r\n",
    "#연도별로 자르고 예산 순위별로 나눈 것\r\n",
    "list_df_20 = []\r\n",
    "for c in col_years:\r\n",
    "    df_20 = df_raw.sort_values(by=c, ascending=False)\r\n",
    "    #당해 최종 예산만 컬럼으로 집어넣기\r\n",
    "    df_20 = pd.concat([df_20.iloc[:, :list(df_20.columns).index(col_years[0])],df_20[c]], axis=1) \r\n",
    "    # '2018년 최종 예산'와 같은 글에서 숫자만 추출\r\n",
    "    year = re.sub(r'[^0-9]', '', c)\r\n",
    "    # 최종예산으로 이름변경\r\n",
    "    df_20.rename(columns={c:\"최종예산\"}, inplace=True)\r\n",
    "    df_20 = pd.concat([df_20.loc[:,:\"세부사업\"], pd.DataFrame({\"연도\":[int(year)]*len(df_20)}), df_20[\"최종예산\"]], axis=1)\r\n",
    "    list_df_20.append(df_20)\r\n",
    "df_sorted_by_year_budget = pd.concat(list_df_20).dropna(subset=[\"최종예산\"]).reset_index(drop=True)\r\n",
    "#2017년부터의 데이터만 나오도록 정제하기\r\n",
    "df_sorted_by_year_budget = df_sorted_by_year_budget.query(\"연도 > 2016\").sort_values(by=\"연도\").reset_index(drop=True)\r\n",
    "df_sorted_by_year_budget"
   ],
   "outputs": [
    {
     "output_type": "execute_result",
     "data": {
      "text/html": [
       "<div>\n",
       "<style scoped>\n",
       "    .dataframe tbody tr th:only-of-type {\n",
       "        vertical-align: middle;\n",
       "    }\n",
       "\n",
       "    .dataframe tbody tr th {\n",
       "        vertical-align: top;\n",
       "    }\n",
       "\n",
       "    .dataframe thead th {\n",
       "        text-align: right;\n",
       "    }\n",
       "</style>\n",
       "<table border=\"1\" class=\"dataframe\">\n",
       "  <thead>\n",
       "    <tr style=\"text-align: right;\">\n",
       "      <th></th>\n",
       "      <th>소관</th>\n",
       "      <th>회계</th>\n",
       "      <th>계정</th>\n",
       "      <th>분야</th>\n",
       "      <th>부문</th>\n",
       "      <th>프로그램</th>\n",
       "      <th>단위사업</th>\n",
       "      <th>세부사업</th>\n",
       "      <th>연도</th>\n",
       "      <th>최종예산</th>\n",
       "    </tr>\n",
       "  </thead>\n",
       "  <tbody>\n",
       "    <tr>\n",
       "      <th>0</th>\n",
       "      <td>감사원</td>\n",
       "      <td>일반회계</td>\n",
       "      <td>NaN</td>\n",
       "      <td>일반・지방행정</td>\n",
       "      <td>일반행정</td>\n",
       "      <td>감사활동 및 행정지원</td>\n",
       "      <td>수입대체경비</td>\n",
       "      <td>감사교육원 수입대체경비</td>\n",
       "      <td>2017</td>\n",
       "      <td>358000000</td>\n",
       "    </tr>\n",
       "    <tr>\n",
       "      <th>1</th>\n",
       "      <td>방위사업청</td>\n",
       "      <td>일반회계</td>\n",
       "      <td>NaN</td>\n",
       "      <td>국방</td>\n",
       "      <td>방위력개선</td>\n",
       "      <td>정밀타격/신특수무기사업</td>\n",
       "      <td>항공유도무기사업</td>\n",
       "      <td>중거리GPS유도키트</td>\n",
       "      <td>2017</td>\n",
       "      <td>33543000000</td>\n",
       "    </tr>\n",
       "    <tr>\n",
       "      <th>2</th>\n",
       "      <td>방위사업청</td>\n",
       "      <td>일반회계</td>\n",
       "      <td>NaN</td>\n",
       "      <td>국방</td>\n",
       "      <td>방위력개선</td>\n",
       "      <td>정밀타격/신특수무기사업</td>\n",
       "      <td>항공유도무기사업</td>\n",
       "      <td>장거리 공대지유도탄</td>\n",
       "      <td>2017</td>\n",
       "      <td>135902000000</td>\n",
       "    </tr>\n",
       "    <tr>\n",
       "      <th>3</th>\n",
       "      <td>방위사업청</td>\n",
       "      <td>일반회계</td>\n",
       "      <td>NaN</td>\n",
       "      <td>국방</td>\n",
       "      <td>방위력개선</td>\n",
       "      <td>정밀타격/신특수무기사업</td>\n",
       "      <td>항공유도무기사업</td>\n",
       "      <td>합동원거리공격탄(JASSM급)</td>\n",
       "      <td>2017</td>\n",
       "      <td>0</td>\n",
       "    </tr>\n",
       "    <tr>\n",
       "      <th>4</th>\n",
       "      <td>방위사업청</td>\n",
       "      <td>일반회계</td>\n",
       "      <td>NaN</td>\n",
       "      <td>국방</td>\n",
       "      <td>방위력개선</td>\n",
       "      <td>신특수유도사업사업</td>\n",
       "      <td>정밀타격유도무기</td>\n",
       "      <td>합동원거리공격탄(JASSM급)</td>\n",
       "      <td>2017</td>\n",
       "      <td>0</td>\n",
       "    </tr>\n",
       "    <tr>\n",
       "      <th>...</th>\n",
       "      <td>...</td>\n",
       "      <td>...</td>\n",
       "      <td>...</td>\n",
       "      <td>...</td>\n",
       "      <td>...</td>\n",
       "      <td>...</td>\n",
       "      <td>...</td>\n",
       "      <td>...</td>\n",
       "      <td>...</td>\n",
       "      <td>...</td>\n",
       "    </tr>\n",
       "    <tr>\n",
       "      <th>112740</th>\n",
       "      <td>기획재정부</td>\n",
       "      <td>일반회계</td>\n",
       "      <td>NaN</td>\n",
       "      <td>일반・지방행정</td>\n",
       "      <td>재정・금융</td>\n",
       "      <td>기획재정 행정지원</td>\n",
       "      <td>본부 기본경비</td>\n",
       "      <td>총액인건비 비대상기본경비(정책조정국)</td>\n",
       "      <td>2021</td>\n",
       "      <td>396000000</td>\n",
       "    </tr>\n",
       "    <tr>\n",
       "      <th>112741</th>\n",
       "      <td>기획재정부</td>\n",
       "      <td>일반회계</td>\n",
       "      <td>NaN</td>\n",
       "      <td>일반공공행정</td>\n",
       "      <td>재정・금융</td>\n",
       "      <td>기획재정 행정지원</td>\n",
       "      <td>본부 기본경비</td>\n",
       "      <td>총액인건비 비대상기본경비(정책조정국)</td>\n",
       "      <td>2021</td>\n",
       "      <td>0</td>\n",
       "    </tr>\n",
       "    <tr>\n",
       "      <th>112742</th>\n",
       "      <td>기획재정부</td>\n",
       "      <td>일반회계</td>\n",
       "      <td>NaN</td>\n",
       "      <td>일반・지방행정</td>\n",
       "      <td>재정・금융</td>\n",
       "      <td>기획재정 행정지원</td>\n",
       "      <td>본부 기본경비</td>\n",
       "      <td>총액인건비 비대상기본경비(대외경제국)</td>\n",
       "      <td>2021</td>\n",
       "      <td>655000000</td>\n",
       "    </tr>\n",
       "    <tr>\n",
       "      <th>112743</th>\n",
       "      <td>기획재정부</td>\n",
       "      <td>일반회계</td>\n",
       "      <td>NaN</td>\n",
       "      <td>일반・지방행정</td>\n",
       "      <td>재정・금융</td>\n",
       "      <td>기획재정 행정지원</td>\n",
       "      <td>본부 기본경비</td>\n",
       "      <td>총액인건비 대상기본경비(세제실)</td>\n",
       "      <td>2021</td>\n",
       "      <td>652000000</td>\n",
       "    </tr>\n",
       "    <tr>\n",
       "      <th>112744</th>\n",
       "      <td>환경부</td>\n",
       "      <td>영산강・섬진강수계관리기금</td>\n",
       "      <td>NaN</td>\n",
       "      <td>환경</td>\n",
       "      <td>물환경</td>\n",
       "      <td>4대강유역관리</td>\n",
       "      <td>기타수질개선지원(영산강)</td>\n",
       "      <td>비점오염 저감사업</td>\n",
       "      <td>2021</td>\n",
       "      <td>1041000000</td>\n",
       "    </tr>\n",
       "  </tbody>\n",
       "</table>\n",
       "<p>112745 rows × 10 columns</p>\n",
       "</div>"
      ],
      "text/plain": [
       "           소관             회계   계정       분야     부문          프로그램  \\\n",
       "0         감사원           일반회계  NaN  일반・지방행정   일반행정   감사활동 및 행정지원   \n",
       "1       방위사업청           일반회계  NaN       국방  방위력개선  정밀타격/신특수무기사업   \n",
       "2       방위사업청           일반회계  NaN       국방  방위력개선  정밀타격/신특수무기사업   \n",
       "3       방위사업청           일반회계  NaN       국방  방위력개선  정밀타격/신특수무기사업   \n",
       "4       방위사업청           일반회계  NaN       국방  방위력개선     신특수유도사업사업   \n",
       "...       ...            ...  ...      ...    ...           ...   \n",
       "112740  기획재정부           일반회계  NaN  일반・지방행정  재정・금융     기획재정 행정지원   \n",
       "112741  기획재정부           일반회계  NaN   일반공공행정  재정・금융     기획재정 행정지원   \n",
       "112742  기획재정부           일반회계  NaN  일반・지방행정  재정・금융     기획재정 행정지원   \n",
       "112743  기획재정부           일반회계  NaN  일반・지방행정  재정・금융     기획재정 행정지원   \n",
       "112744    환경부  영산강・섬진강수계관리기금  NaN       환경    물환경       4대강유역관리   \n",
       "\n",
       "                 단위사업                  세부사업    연도         최종예산  \n",
       "0              수입대체경비          감사교육원 수입대체경비  2017    358000000  \n",
       "1            항공유도무기사업            중거리GPS유도키트  2017  33543000000  \n",
       "2            항공유도무기사업            장거리 공대지유도탄  2017 135902000000  \n",
       "3            항공유도무기사업      합동원거리공격탄(JASSM급)  2017            0  \n",
       "4            정밀타격유도무기      합동원거리공격탄(JASSM급)  2017            0  \n",
       "...               ...                   ...   ...          ...  \n",
       "112740        본부 기본경비  총액인건비 비대상기본경비(정책조정국)  2021    396000000  \n",
       "112741        본부 기본경비  총액인건비 비대상기본경비(정책조정국)  2021            0  \n",
       "112742        본부 기본경비  총액인건비 비대상기본경비(대외경제국)  2021    655000000  \n",
       "112743        본부 기본경비     총액인건비 대상기본경비(세제실)  2021    652000000  \n",
       "112744  기타수질개선지원(영산강)             비점오염 저감사업  2021   1041000000  \n",
       "\n",
       "[112745 rows x 10 columns]"
      ]
     },
     "metadata": {},
     "execution_count": 7
    }
   ],
   "metadata": {}
  },
  {
   "cell_type": "markdown",
   "source": [
    "# 구글 검색 링크 열로 붙이기"
   ],
   "metadata": {}
  },
  {
   "cell_type": "markdown",
   "source": [
    "태블로에 궁금한 세부사업에 대해 검색할 수 있도록 하는 링크를 제공하기 위해\r\n",
    "\r\n",
    "구글 검색 링크 열을 새로 추가함"
   ],
   "metadata": {}
  },
  {
   "cell_type": "code",
   "execution_count": 8,
   "source": [
    "df = df_sorted_by_year_budget \r\n",
    "google = 'https://www.google.com/search?q='\r\n",
    "google_link = []\r\n",
    "\r\n",
    "df_detail = df['세부사업']\r\n",
    "\r\n",
    "for i in df_detail:\r\n",
    "    g_link = google + i\r\n",
    "    google_link.append(g_link)\r\n",
    "df['googlelink'] = google_link\r\n",
    "df"
   ],
   "outputs": [
    {
     "output_type": "execute_result",
     "data": {
      "text/html": [
       "<div>\n",
       "<style scoped>\n",
       "    .dataframe tbody tr th:only-of-type {\n",
       "        vertical-align: middle;\n",
       "    }\n",
       "\n",
       "    .dataframe tbody tr th {\n",
       "        vertical-align: top;\n",
       "    }\n",
       "\n",
       "    .dataframe thead th {\n",
       "        text-align: right;\n",
       "    }\n",
       "</style>\n",
       "<table border=\"1\" class=\"dataframe\">\n",
       "  <thead>\n",
       "    <tr style=\"text-align: right;\">\n",
       "      <th></th>\n",
       "      <th>소관</th>\n",
       "      <th>회계</th>\n",
       "      <th>계정</th>\n",
       "      <th>분야</th>\n",
       "      <th>부문</th>\n",
       "      <th>프로그램</th>\n",
       "      <th>단위사업</th>\n",
       "      <th>세부사업</th>\n",
       "      <th>연도</th>\n",
       "      <th>최종예산</th>\n",
       "      <th>googlelink</th>\n",
       "    </tr>\n",
       "  </thead>\n",
       "  <tbody>\n",
       "    <tr>\n",
       "      <th>0</th>\n",
       "      <td>감사원</td>\n",
       "      <td>일반회계</td>\n",
       "      <td>NaN</td>\n",
       "      <td>일반・지방행정</td>\n",
       "      <td>일반행정</td>\n",
       "      <td>감사활동 및 행정지원</td>\n",
       "      <td>수입대체경비</td>\n",
       "      <td>감사교육원 수입대체경비</td>\n",
       "      <td>2017</td>\n",
       "      <td>358000000</td>\n",
       "      <td>https://www.google.com/search?q=감사교육원 수입대체경비</td>\n",
       "    </tr>\n",
       "    <tr>\n",
       "      <th>1</th>\n",
       "      <td>방위사업청</td>\n",
       "      <td>일반회계</td>\n",
       "      <td>NaN</td>\n",
       "      <td>국방</td>\n",
       "      <td>방위력개선</td>\n",
       "      <td>정밀타격/신특수무기사업</td>\n",
       "      <td>항공유도무기사업</td>\n",
       "      <td>중거리GPS유도키트</td>\n",
       "      <td>2017</td>\n",
       "      <td>33543000000</td>\n",
       "      <td>https://www.google.com/search?q=중거리GPS유도키트</td>\n",
       "    </tr>\n",
       "    <tr>\n",
       "      <th>2</th>\n",
       "      <td>방위사업청</td>\n",
       "      <td>일반회계</td>\n",
       "      <td>NaN</td>\n",
       "      <td>국방</td>\n",
       "      <td>방위력개선</td>\n",
       "      <td>정밀타격/신특수무기사업</td>\n",
       "      <td>항공유도무기사업</td>\n",
       "      <td>장거리 공대지유도탄</td>\n",
       "      <td>2017</td>\n",
       "      <td>135902000000</td>\n",
       "      <td>https://www.google.com/search?q=장거리 공대지유도탄</td>\n",
       "    </tr>\n",
       "    <tr>\n",
       "      <th>3</th>\n",
       "      <td>방위사업청</td>\n",
       "      <td>일반회계</td>\n",
       "      <td>NaN</td>\n",
       "      <td>국방</td>\n",
       "      <td>방위력개선</td>\n",
       "      <td>정밀타격/신특수무기사업</td>\n",
       "      <td>항공유도무기사업</td>\n",
       "      <td>합동원거리공격탄(JASSM급)</td>\n",
       "      <td>2017</td>\n",
       "      <td>0</td>\n",
       "      <td>https://www.google.com/search?q=합동원거리공격탄(JASSM급)</td>\n",
       "    </tr>\n",
       "    <tr>\n",
       "      <th>4</th>\n",
       "      <td>방위사업청</td>\n",
       "      <td>일반회계</td>\n",
       "      <td>NaN</td>\n",
       "      <td>국방</td>\n",
       "      <td>방위력개선</td>\n",
       "      <td>신특수유도사업사업</td>\n",
       "      <td>정밀타격유도무기</td>\n",
       "      <td>합동원거리공격탄(JASSM급)</td>\n",
       "      <td>2017</td>\n",
       "      <td>0</td>\n",
       "      <td>https://www.google.com/search?q=합동원거리공격탄(JASSM급)</td>\n",
       "    </tr>\n",
       "    <tr>\n",
       "      <th>...</th>\n",
       "      <td>...</td>\n",
       "      <td>...</td>\n",
       "      <td>...</td>\n",
       "      <td>...</td>\n",
       "      <td>...</td>\n",
       "      <td>...</td>\n",
       "      <td>...</td>\n",
       "      <td>...</td>\n",
       "      <td>...</td>\n",
       "      <td>...</td>\n",
       "      <td>...</td>\n",
       "    </tr>\n",
       "    <tr>\n",
       "      <th>112740</th>\n",
       "      <td>기획재정부</td>\n",
       "      <td>일반회계</td>\n",
       "      <td>NaN</td>\n",
       "      <td>일반・지방행정</td>\n",
       "      <td>재정・금융</td>\n",
       "      <td>기획재정 행정지원</td>\n",
       "      <td>본부 기본경비</td>\n",
       "      <td>총액인건비 비대상기본경비(정책조정국)</td>\n",
       "      <td>2021</td>\n",
       "      <td>396000000</td>\n",
       "      <td>https://www.google.com/search?q=총액인건비 비대상기본경비(...</td>\n",
       "    </tr>\n",
       "    <tr>\n",
       "      <th>112741</th>\n",
       "      <td>기획재정부</td>\n",
       "      <td>일반회계</td>\n",
       "      <td>NaN</td>\n",
       "      <td>일반공공행정</td>\n",
       "      <td>재정・금융</td>\n",
       "      <td>기획재정 행정지원</td>\n",
       "      <td>본부 기본경비</td>\n",
       "      <td>총액인건비 비대상기본경비(정책조정국)</td>\n",
       "      <td>2021</td>\n",
       "      <td>0</td>\n",
       "      <td>https://www.google.com/search?q=총액인건비 비대상기본경비(...</td>\n",
       "    </tr>\n",
       "    <tr>\n",
       "      <th>112742</th>\n",
       "      <td>기획재정부</td>\n",
       "      <td>일반회계</td>\n",
       "      <td>NaN</td>\n",
       "      <td>일반・지방행정</td>\n",
       "      <td>재정・금융</td>\n",
       "      <td>기획재정 행정지원</td>\n",
       "      <td>본부 기본경비</td>\n",
       "      <td>총액인건비 비대상기본경비(대외경제국)</td>\n",
       "      <td>2021</td>\n",
       "      <td>655000000</td>\n",
       "      <td>https://www.google.com/search?q=총액인건비 비대상기본경비(...</td>\n",
       "    </tr>\n",
       "    <tr>\n",
       "      <th>112743</th>\n",
       "      <td>기획재정부</td>\n",
       "      <td>일반회계</td>\n",
       "      <td>NaN</td>\n",
       "      <td>일반・지방행정</td>\n",
       "      <td>재정・금융</td>\n",
       "      <td>기획재정 행정지원</td>\n",
       "      <td>본부 기본경비</td>\n",
       "      <td>총액인건비 대상기본경비(세제실)</td>\n",
       "      <td>2021</td>\n",
       "      <td>652000000</td>\n",
       "      <td>https://www.google.com/search?q=총액인건비 대상기본경비(세제실)</td>\n",
       "    </tr>\n",
       "    <tr>\n",
       "      <th>112744</th>\n",
       "      <td>환경부</td>\n",
       "      <td>영산강・섬진강수계관리기금</td>\n",
       "      <td>NaN</td>\n",
       "      <td>환경</td>\n",
       "      <td>물환경</td>\n",
       "      <td>4대강유역관리</td>\n",
       "      <td>기타수질개선지원(영산강)</td>\n",
       "      <td>비점오염 저감사업</td>\n",
       "      <td>2021</td>\n",
       "      <td>1041000000</td>\n",
       "      <td>https://www.google.com/search?q=비점오염 저감사업</td>\n",
       "    </tr>\n",
       "  </tbody>\n",
       "</table>\n",
       "<p>112745 rows × 11 columns</p>\n",
       "</div>"
      ],
      "text/plain": [
       "           소관             회계   계정       분야     부문          프로그램  \\\n",
       "0         감사원           일반회계  NaN  일반・지방행정   일반행정   감사활동 및 행정지원   \n",
       "1       방위사업청           일반회계  NaN       국방  방위력개선  정밀타격/신특수무기사업   \n",
       "2       방위사업청           일반회계  NaN       국방  방위력개선  정밀타격/신특수무기사업   \n",
       "3       방위사업청           일반회계  NaN       국방  방위력개선  정밀타격/신특수무기사업   \n",
       "4       방위사업청           일반회계  NaN       국방  방위력개선     신특수유도사업사업   \n",
       "...       ...            ...  ...      ...    ...           ...   \n",
       "112740  기획재정부           일반회계  NaN  일반・지방행정  재정・금융     기획재정 행정지원   \n",
       "112741  기획재정부           일반회계  NaN   일반공공행정  재정・금융     기획재정 행정지원   \n",
       "112742  기획재정부           일반회계  NaN  일반・지방행정  재정・금융     기획재정 행정지원   \n",
       "112743  기획재정부           일반회계  NaN  일반・지방행정  재정・금융     기획재정 행정지원   \n",
       "112744    환경부  영산강・섬진강수계관리기금  NaN       환경    물환경       4대강유역관리   \n",
       "\n",
       "                 단위사업                  세부사업    연도         최종예산  \\\n",
       "0              수입대체경비          감사교육원 수입대체경비  2017    358000000   \n",
       "1            항공유도무기사업            중거리GPS유도키트  2017  33543000000   \n",
       "2            항공유도무기사업            장거리 공대지유도탄  2017 135902000000   \n",
       "3            항공유도무기사업      합동원거리공격탄(JASSM급)  2017            0   \n",
       "4            정밀타격유도무기      합동원거리공격탄(JASSM급)  2017            0   \n",
       "...               ...                   ...   ...          ...   \n",
       "112740        본부 기본경비  총액인건비 비대상기본경비(정책조정국)  2021    396000000   \n",
       "112741        본부 기본경비  총액인건비 비대상기본경비(정책조정국)  2021            0   \n",
       "112742        본부 기본경비  총액인건비 비대상기본경비(대외경제국)  2021    655000000   \n",
       "112743        본부 기본경비     총액인건비 대상기본경비(세제실)  2021    652000000   \n",
       "112744  기타수질개선지원(영산강)             비점오염 저감사업  2021   1041000000   \n",
       "\n",
       "                                               googlelink  \n",
       "0            https://www.google.com/search?q=감사교육원 수입대체경비  \n",
       "1              https://www.google.com/search?q=중거리GPS유도키트  \n",
       "2              https://www.google.com/search?q=장거리 공대지유도탄  \n",
       "3        https://www.google.com/search?q=합동원거리공격탄(JASSM급)  \n",
       "4        https://www.google.com/search?q=합동원거리공격탄(JASSM급)  \n",
       "...                                                   ...  \n",
       "112740  https://www.google.com/search?q=총액인건비 비대상기본경비(...  \n",
       "112741  https://www.google.com/search?q=총액인건비 비대상기본경비(...  \n",
       "112742  https://www.google.com/search?q=총액인건비 비대상기본경비(...  \n",
       "112743  https://www.google.com/search?q=총액인건비 대상기본경비(세제실)  \n",
       "112744          https://www.google.com/search?q=비점오염 저감사업  \n",
       "\n",
       "[112745 rows x 11 columns]"
      ]
     },
     "metadata": {},
     "execution_count": 8
    }
   ],
   "metadata": {}
  },
  {
   "cell_type": "markdown",
   "source": [
    "----"
   ],
   "metadata": {}
  },
  {
   "cell_type": "markdown",
   "source": [
    "# 행별 세부사업 연도 총합 순위 top 10 매겨보기\r\n",
    "하나의 세부사업에 책정된 총 예산을 함쳐 상위 10개의 순위를 매겨봄."
   ],
   "metadata": {}
  },
  {
   "cell_type": "code",
   "execution_count": 9,
   "source": [
    "col_years = [i for i in df_raw.columns if i.startswith(\"20\")]\r\n",
    "\r\n",
    "series_years_row_sum = df_raw[col_years].sum(axis=1)#.map(lambda x: str(x)) #행별연도총합\r\n",
    "series_years_row_sum.name = \"행별연도총합\"\r\n",
    "df_yearsum = pd.concat([df_raw.drop(columns=col_years+['계정', '소관']), series_years_row_sum], axis=1)\\\r\n",
    "    .sort_values(by=\"행별연도총합\", ascending=False)\\\r\n",
    "    .reset_index(drop=True).head(10)\r\n",
    "df_yearsum"
   ],
   "outputs": [
    {
     "output_type": "execute_result",
     "data": {
      "text/html": [
       "<div>\n",
       "<style scoped>\n",
       "    .dataframe tbody tr th:only-of-type {\n",
       "        vertical-align: middle;\n",
       "    }\n",
       "\n",
       "    .dataframe tbody tr th {\n",
       "        vertical-align: top;\n",
       "    }\n",
       "\n",
       "    .dataframe thead th {\n",
       "        text-align: right;\n",
       "    }\n",
       "</style>\n",
       "<table border=\"1\" class=\"dataframe\">\n",
       "  <thead>\n",
       "    <tr style=\"text-align: right;\">\n",
       "      <th></th>\n",
       "      <th>회계</th>\n",
       "      <th>분야</th>\n",
       "      <th>부문</th>\n",
       "      <th>프로그램</th>\n",
       "      <th>단위사업</th>\n",
       "      <th>세부사업</th>\n",
       "      <th>행별연도총합</th>\n",
       "    </tr>\n",
       "  </thead>\n",
       "  <tbody>\n",
       "    <tr>\n",
       "      <th>0</th>\n",
       "      <td>공공자금관리기금</td>\n",
       "      <td>일반공공행정</td>\n",
       "      <td>재정・금융</td>\n",
       "      <td>차입금원금상환</td>\n",
       "      <td>국고채원금상환(공공자금관리기금)</td>\n",
       "      <td>국고채원금상환</td>\n",
       "      <td>301641097000000</td>\n",
       "    </tr>\n",
       "    <tr>\n",
       "      <th>1</th>\n",
       "      <td>일반회계</td>\n",
       "      <td>교육</td>\n",
       "      <td>유아및초중등교육</td>\n",
       "      <td>지방교육재정교부금</td>\n",
       "      <td>보통교부금</td>\n",
       "      <td>보통교부금</td>\n",
       "      <td>295960123000000</td>\n",
       "    </tr>\n",
       "    <tr>\n",
       "      <th>2</th>\n",
       "      <td>외국환평형기금</td>\n",
       "      <td>일반・지방행정</td>\n",
       "      <td>재정・금융</td>\n",
       "      <td>여유자금운용</td>\n",
       "      <td>여유자금운영(외국환평형기금)</td>\n",
       "      <td>한국은행예치</td>\n",
       "      <td>283468354000000</td>\n",
       "    </tr>\n",
       "    <tr>\n",
       "      <th>3</th>\n",
       "      <td>공공자금관리기금</td>\n",
       "      <td>일반・지방행정</td>\n",
       "      <td>재정・금융</td>\n",
       "      <td>차입금원금상환</td>\n",
       "      <td>국고채원금상환(공공자금관리기금)</td>\n",
       "      <td>국고채원금상환</td>\n",
       "      <td>265634226500000</td>\n",
       "    </tr>\n",
       "    <tr>\n",
       "      <th>4</th>\n",
       "      <td>공공자금관리기금</td>\n",
       "      <td>일반・지방행정</td>\n",
       "      <td>재정・금융</td>\n",
       "      <td>차입금등원금상환</td>\n",
       "      <td>국고채원금상환(공공자금관리기금)</td>\n",
       "      <td>국고채원금상환</td>\n",
       "      <td>261663177000000</td>\n",
       "    </tr>\n",
       "    <tr>\n",
       "      <th>5</th>\n",
       "      <td>공공자금관리기금</td>\n",
       "      <td>일반・지방행정</td>\n",
       "      <td>재정・금융</td>\n",
       "      <td>회계기금간거래(예탁금)</td>\n",
       "      <td>일반회계예탁(공공자금관리기금)</td>\n",
       "      <td>일반회계 예탁</td>\n",
       "      <td>244287448000000</td>\n",
       "    </tr>\n",
       "    <tr>\n",
       "      <th>6</th>\n",
       "      <td>공공자금관리기금</td>\n",
       "      <td>일반・지방행정</td>\n",
       "      <td>재정・금융</td>\n",
       "      <td>기금간거래(예탁금)</td>\n",
       "      <td>기타기금예탁(공공자금관리기금)</td>\n",
       "      <td>공자기금에서 기타기금으로 예탁금(총괄계정)</td>\n",
       "      <td>231759698000000</td>\n",
       "    </tr>\n",
       "    <tr>\n",
       "      <th>7</th>\n",
       "      <td>국민연금기금</td>\n",
       "      <td>사회복지</td>\n",
       "      <td>공적연금</td>\n",
       "      <td>여유자금운용</td>\n",
       "      <td>여유자금운용(국민연금기금)</td>\n",
       "      <td>국민연금기금 국채외채권매입</td>\n",
       "      <td>230747239000000</td>\n",
       "    </tr>\n",
       "    <tr>\n",
       "      <th>8</th>\n",
       "      <td>일반회계</td>\n",
       "      <td>일반・지방행정</td>\n",
       "      <td>지방행정・재정지원</td>\n",
       "      <td>지방교부세</td>\n",
       "      <td>보통교부세</td>\n",
       "      <td>보통교부세</td>\n",
       "      <td>185220917000000</td>\n",
       "    </tr>\n",
       "    <tr>\n",
       "      <th>9</th>\n",
       "      <td>공공자금관리기금</td>\n",
       "      <td>일반・지방행정</td>\n",
       "      <td>재정・금융</td>\n",
       "      <td>기금간거래(예탁금)</td>\n",
       "      <td>기타기금예탁(공공자금관리기금)</td>\n",
       "      <td>기타기금 예탁</td>\n",
       "      <td>160959304000000</td>\n",
       "    </tr>\n",
       "  </tbody>\n",
       "</table>\n",
       "</div>"
      ],
      "text/plain": [
       "         회계       분야         부문          프로그램               단위사업  \\\n",
       "0  공공자금관리기금   일반공공행정      재정・금융       차입금원금상환  국고채원금상환(공공자금관리기금)   \n",
       "1      일반회계       교육   유아및초중등교육     지방교육재정교부금              보통교부금   \n",
       "2   외국환평형기금  일반・지방행정      재정・금융        여유자금운용    여유자금운영(외국환평형기금)   \n",
       "3  공공자금관리기금  일반・지방행정      재정・금융       차입금원금상환  국고채원금상환(공공자금관리기금)   \n",
       "4  공공자금관리기금  일반・지방행정      재정・금융      차입금등원금상환  국고채원금상환(공공자금관리기금)   \n",
       "5  공공자금관리기금  일반・지방행정      재정・금융  회계기금간거래(예탁금)   일반회계예탁(공공자금관리기금)   \n",
       "6  공공자금관리기금  일반・지방행정      재정・금융    기금간거래(예탁금)   기타기금예탁(공공자금관리기금)   \n",
       "7    국민연금기금     사회복지       공적연금        여유자금운용     여유자금운용(국민연금기금)   \n",
       "8      일반회계  일반・지방행정  지방행정・재정지원         지방교부세              보통교부세   \n",
       "9  공공자금관리기금  일반・지방행정      재정・금융    기금간거래(예탁금)   기타기금예탁(공공자금관리기금)   \n",
       "\n",
       "                      세부사업          행별연도총합  \n",
       "0                  국고채원금상환 301641097000000  \n",
       "1                    보통교부금 295960123000000  \n",
       "2                   한국은행예치 283468354000000  \n",
       "3                  국고채원금상환 265634226500000  \n",
       "4                  국고채원금상환 261663177000000  \n",
       "5                  일반회계 예탁 244287448000000  \n",
       "6  공자기금에서 기타기금으로 예탁금(총괄계정) 231759698000000  \n",
       "7           국민연금기금 국채외채권매입 230747239000000  \n",
       "8                    보통교부세 185220917000000  \n",
       "9                  기타기금 예탁 160959304000000  "
      ]
     },
     "metadata": {},
     "execution_count": 9
    }
   ],
   "metadata": {}
  },
  {
   "cell_type": "markdown",
   "source": [
    "# 한글 원 단위로 보기"
   ],
   "metadata": {}
  },
  {
   "cell_type": "markdown",
   "source": [
    "큰 수는 수를 한번에 알아보기 어렵기 때문에 체감이 쉬운 한글 숫자 단위(조, 억, 만)를 사용하여 금액의 규모가 쉽게 와닿도록 함."
   ],
   "metadata": {}
  },
  {
   "cell_type": "markdown",
   "source": [
    "## 한글 숫자 단위 생성 함수 정의"
   ],
   "metadata": {}
  },
  {
   "cell_type": "code",
   "execution_count": 12,
   "source": [
    "#한글 숫자 단위 생성기(원 계산기)\r\n",
    "def num2han(n):\r\n",
    "    n = int(n)\r\n",
    "    result = \"\"\r\n",
    "    han=list(\"만억조경해\")\r\n",
    "    for i in range(len(han),0,-1):\r\n",
    "        if n >= 10**(i*4):\r\n",
    "            result += f\"{n // 10**(i*4)}{han[i-1]}\"\r\n",
    "            n -= (n //10**(i*4))*(10**(i*4))\r\n",
    "    if n != 0:\r\n",
    "        result += str(n)\r\n",
    "    return result.strip()+\"원\""
   ],
   "outputs": [],
   "metadata": {}
  },
  {
   "cell_type": "markdown",
   "source": [
    "## 원 단위 생성 함수 사용하여 표현하기"
   ],
   "metadata": {}
  },
  {
   "cell_type": "code",
   "execution_count": 11,
   "source": [
    "df_yearsum[\"행별연도총합\"] = df_yearsum[\"행별연도총합\"].apply(num2han)\r\n",
    "df_yearsum"
   ],
   "outputs": [
    {
     "output_type": "execute_result",
     "data": {
      "text/html": [
       "<div>\n",
       "<style scoped>\n",
       "    .dataframe tbody tr th:only-of-type {\n",
       "        vertical-align: middle;\n",
       "    }\n",
       "\n",
       "    .dataframe tbody tr th {\n",
       "        vertical-align: top;\n",
       "    }\n",
       "\n",
       "    .dataframe thead th {\n",
       "        text-align: right;\n",
       "    }\n",
       "</style>\n",
       "<table border=\"1\" class=\"dataframe\">\n",
       "  <thead>\n",
       "    <tr style=\"text-align: right;\">\n",
       "      <th></th>\n",
       "      <th>회계</th>\n",
       "      <th>분야</th>\n",
       "      <th>부문</th>\n",
       "      <th>프로그램</th>\n",
       "      <th>단위사업</th>\n",
       "      <th>세부사업</th>\n",
       "      <th>행별연도총합</th>\n",
       "    </tr>\n",
       "  </thead>\n",
       "  <tbody>\n",
       "    <tr>\n",
       "      <th>0</th>\n",
       "      <td>공공자금관리기금</td>\n",
       "      <td>일반공공행정</td>\n",
       "      <td>재정・금융</td>\n",
       "      <td>차입금원금상환</td>\n",
       "      <td>국고채원금상환(공공자금관리기금)</td>\n",
       "      <td>국고채원금상환</td>\n",
       "      <td>301조6410억9700만원</td>\n",
       "    </tr>\n",
       "    <tr>\n",
       "      <th>1</th>\n",
       "      <td>일반회계</td>\n",
       "      <td>교육</td>\n",
       "      <td>유아및초중등교육</td>\n",
       "      <td>지방교육재정교부금</td>\n",
       "      <td>보통교부금</td>\n",
       "      <td>보통교부금</td>\n",
       "      <td>295조9601억2300만원</td>\n",
       "    </tr>\n",
       "    <tr>\n",
       "      <th>2</th>\n",
       "      <td>외국환평형기금</td>\n",
       "      <td>일반・지방행정</td>\n",
       "      <td>재정・금융</td>\n",
       "      <td>여유자금운용</td>\n",
       "      <td>여유자금운영(외국환평형기금)</td>\n",
       "      <td>한국은행예치</td>\n",
       "      <td>283조4683억5400만원</td>\n",
       "    </tr>\n",
       "    <tr>\n",
       "      <th>3</th>\n",
       "      <td>공공자금관리기금</td>\n",
       "      <td>일반・지방행정</td>\n",
       "      <td>재정・금융</td>\n",
       "      <td>차입금원금상환</td>\n",
       "      <td>국고채원금상환(공공자금관리기금)</td>\n",
       "      <td>국고채원금상환</td>\n",
       "      <td>265조6342억2650만원</td>\n",
       "    </tr>\n",
       "    <tr>\n",
       "      <th>4</th>\n",
       "      <td>공공자금관리기금</td>\n",
       "      <td>일반・지방행정</td>\n",
       "      <td>재정・금융</td>\n",
       "      <td>차입금등원금상환</td>\n",
       "      <td>국고채원금상환(공공자금관리기금)</td>\n",
       "      <td>국고채원금상환</td>\n",
       "      <td>261조6631억7700만원</td>\n",
       "    </tr>\n",
       "    <tr>\n",
       "      <th>5</th>\n",
       "      <td>공공자금관리기금</td>\n",
       "      <td>일반・지방행정</td>\n",
       "      <td>재정・금융</td>\n",
       "      <td>회계기금간거래(예탁금)</td>\n",
       "      <td>일반회계예탁(공공자금관리기금)</td>\n",
       "      <td>일반회계 예탁</td>\n",
       "      <td>244조2874억4800만원</td>\n",
       "    </tr>\n",
       "    <tr>\n",
       "      <th>6</th>\n",
       "      <td>공공자금관리기금</td>\n",
       "      <td>일반・지방행정</td>\n",
       "      <td>재정・금융</td>\n",
       "      <td>기금간거래(예탁금)</td>\n",
       "      <td>기타기금예탁(공공자금관리기금)</td>\n",
       "      <td>공자기금에서 기타기금으로 예탁금(총괄계정)</td>\n",
       "      <td>231조7596억9800만원</td>\n",
       "    </tr>\n",
       "    <tr>\n",
       "      <th>7</th>\n",
       "      <td>국민연금기금</td>\n",
       "      <td>사회복지</td>\n",
       "      <td>공적연금</td>\n",
       "      <td>여유자금운용</td>\n",
       "      <td>여유자금운용(국민연금기금)</td>\n",
       "      <td>국민연금기금 국채외채권매입</td>\n",
       "      <td>230조7472억3900만원</td>\n",
       "    </tr>\n",
       "    <tr>\n",
       "      <th>8</th>\n",
       "      <td>일반회계</td>\n",
       "      <td>일반・지방행정</td>\n",
       "      <td>지방행정・재정지원</td>\n",
       "      <td>지방교부세</td>\n",
       "      <td>보통교부세</td>\n",
       "      <td>보통교부세</td>\n",
       "      <td>185조2209억1700만원</td>\n",
       "    </tr>\n",
       "    <tr>\n",
       "      <th>9</th>\n",
       "      <td>공공자금관리기금</td>\n",
       "      <td>일반・지방행정</td>\n",
       "      <td>재정・금융</td>\n",
       "      <td>기금간거래(예탁금)</td>\n",
       "      <td>기타기금예탁(공공자금관리기금)</td>\n",
       "      <td>기타기금 예탁</td>\n",
       "      <td>160조9593억400만원</td>\n",
       "    </tr>\n",
       "  </tbody>\n",
       "</table>\n",
       "</div>"
      ],
      "text/plain": [
       "         회계       분야         부문          프로그램               단위사업  \\\n",
       "0  공공자금관리기금   일반공공행정      재정・금융       차입금원금상환  국고채원금상환(공공자금관리기금)   \n",
       "1      일반회계       교육   유아및초중등교육     지방교육재정교부금              보통교부금   \n",
       "2   외국환평형기금  일반・지방행정      재정・금융        여유자금운용    여유자금운영(외국환평형기금)   \n",
       "3  공공자금관리기금  일반・지방행정      재정・금융       차입금원금상환  국고채원금상환(공공자금관리기금)   \n",
       "4  공공자금관리기금  일반・지방행정      재정・금융      차입금등원금상환  국고채원금상환(공공자금관리기금)   \n",
       "5  공공자금관리기금  일반・지방행정      재정・금융  회계기금간거래(예탁금)   일반회계예탁(공공자금관리기금)   \n",
       "6  공공자금관리기금  일반・지방행정      재정・금융    기금간거래(예탁금)   기타기금예탁(공공자금관리기금)   \n",
       "7    국민연금기금     사회복지       공적연금        여유자금운용     여유자금운용(국민연금기금)   \n",
       "8      일반회계  일반・지방행정  지방행정・재정지원         지방교부세              보통교부세   \n",
       "9  공공자금관리기금  일반・지방행정      재정・금융    기금간거래(예탁금)   기타기금예탁(공공자금관리기금)   \n",
       "\n",
       "                      세부사업           행별연도총합  \n",
       "0                  국고채원금상환  301조6410억9700만원  \n",
       "1                    보통교부금  295조9601억2300만원  \n",
       "2                   한국은행예치  283조4683억5400만원  \n",
       "3                  국고채원금상환  265조6342억2650만원  \n",
       "4                  국고채원금상환  261조6631억7700만원  \n",
       "5                  일반회계 예탁  244조2874억4800만원  \n",
       "6  공자기금에서 기타기금으로 예탁금(총괄계정)  231조7596억9800만원  \n",
       "7           국민연금기금 국채외채권매입  230조7472억3900만원  \n",
       "8                    보통교부세  185조2209억1700만원  \n",
       "9                  기타기금 예탁   160조9593억400만원  "
      ]
     },
     "metadata": {},
     "execution_count": 11
    }
   ],
   "metadata": {}
  }
 ],
 "metadata": {
  "orig_nbformat": 4,
  "language_info": {
   "name": "python",
   "version": "3.9.6",
   "mimetype": "text/x-python",
   "codemirror_mode": {
    "name": "ipython",
    "version": 3
   },
   "pygments_lexer": "ipython3",
   "nbconvert_exporter": "python",
   "file_extension": ".py"
  },
  "kernelspec": {
   "name": "python3",
   "display_name": "Python 3.9.6 64-bit"
  },
  "interpreter": {
   "hash": "247ab06e135bb35fa78c5eff31b2a9a0050dcb5fb773c2631d2a29ac689eeccb"
  }
 },
 "nbformat": 4,
 "nbformat_minor": 2
}